{
 "cells": [
  {
   "cell_type": "code",
   "execution_count": null,
   "metadata": {
    "collapsed": true
   },
   "outputs": [],
   "source": [
    "import praw"
   ]
  },
  {
   "cell_type": "code",
   "execution_count": null,
   "metadata": {
    "collapsed": true
   },
   "outputs": [],
   "source": [
    "import pickle"
   ]
  },
  {
   "cell_type": "code",
   "execution_count": null,
   "metadata": {
    "collapsed": true
   },
   "outputs": [],
   "source": [
    "import time\n",
    "import datetime\n",
    "from calendar import monthrange\n"
   ]
  },
  {
   "cell_type": "code",
   "execution_count": null,
   "metadata": {
    "collapsed": true
   },
   "outputs": [],
   "source": [
    "import numpy as np\n",
    "import pandas as pd"
   ]
  },
  {
   "cell_type": "code",
   "execution_count": null,
   "metadata": {
    "collapsed": true
   },
   "outputs": [],
   "source": [
    "reddit = praw.Reddit(client_id='xxxxx',\n",
    "                     client_secret='xxxxx',\n",
    "                     user_agent='xxxxx')',\n",
    "                     username='xxxxx',\n",
    "                     password='xxxxx')"
   ]
  },
  {
   "cell_type": "code",
   "execution_count": null,
   "metadata": {
    "collapsed": true
   },
   "outputs": [],
   "source": [
    "sub = reddit.subreddit('worldnews')"
   ]
  },
  {
   "cell_type": "code",
   "execution_count": null,
   "metadata": {
    "collapsed": true
   },
   "outputs": [],
   "source": [
    "def load_dates(path):\n",
    "    dates_D = {}\n",
    "    with open(path, 'r', newline='\\n') as f:\n",
    "        for line in f:\n",
    "            reddit_id, field = line.strip().split('\\t', maxsplit=1)\n",
    "            dates_D[reddit_id] = field\n",
    "    return dates_D\n",
    "\n",
    "def load_data(path, dates_D):\n",
    "    reddit_ids = []\n",
    "    data = []\n",
    "    with open(path, 'r', newline='\\n') as f:\n",
    "        for line in f:\n",
    "            reddit_id, comments = line.split('\\t', maxsplit=1)\n",
    "            if reddit_id in dates_D.keys():\n",
    "                data.append(comments)\n",
    "                reddit_ids.append(reddit_id)\n",
    "    return reddit_ids, data"
   ]
  },
  {
   "cell_type": "code",
   "execution_count": null,
   "metadata": {
    "collapsed": true
   },
   "outputs": [],
   "source": [
    "dates_D = load_dates('../data/worldnews_2016_10-2017_9_submissiondates.txt')\n",
    "#reddit_ids, data = load_data('../data/worldnews_2017_1-2017_1_flatcomments.txt', dates_D)"
   ]
  },
  {
   "cell_type": "code",
   "execution_count": null,
   "metadata": {
    "collapsed": true
   },
   "outputs": [],
   "source": [
    "timestamp_1Oct2016 = time.mktime(datetime.datetime(2016, 10, 1, 0, 0, 0).timetuple())\n",
    "timestemp_30Sept2017 = time.mktime(datetime.datetime(2017, 9, 30, 23, 59, 59, 99).timetuple())"
   ]
  },
  {
   "cell_type": "code",
   "execution_count": null,
   "metadata": {
    "collapsed": true
   },
   "outputs": [],
   "source": [
    "with open('../data/worldnews_2016_10-2017_9_contraversial_per_year.txt', 'w') as out:\n",
    "    for i, submission in enumerate(sub.controversial('year', limit=None)):\n",
    "        if (submission.num_comments > 100) and (timestamp_1Oct2016 <= submission.created <= timestemp_30Sept2017):\n",
    "            out.write('%s\\t%i\\n'%(submission, i))"
   ]
  }
 ],
 "metadata": {
  "kernelspec": {
   "display_name": "Python 3",
   "language": "python",
   "name": "python3"
  },
  "language_info": {
   "codemirror_mode": {
    "name": "ipython",
    "version": 3
   },
   "file_extension": ".py",
   "mimetype": "text/x-python",
   "name": "python",
   "nbconvert_exporter": "python",
   "pygments_lexer": "ipython3",
   "version": "3.6.2"
  }
 },
 "nbformat": 4,
 "nbformat_minor": 2
}
